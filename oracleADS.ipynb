{
 "cells": [
  {
   "cell_type": "markdown",
   "metadata": {},
   "source": [
    "Uploading a model artifact using ORACLE ADS\n"
   ]
  },
  {
   "cell_type": "code",
   "execution_count": null,
   "metadata": {},
   "outputs": [],
   "source": [
    "from sklearn.ensemble import RandomForestClassifier\n",
    "from sklearn.datasets import make_classification\n",
    "from.model_selection import train_test_split\n",
    "import ads\n",
    "import os"
   ]
  },
  {
   "cell_type": "code",
   "execution_count": null,
   "metadata": {},
   "outputs": [],
   "source": [
    "#use resource principal for authentication\n",
    "ads.set_auth(auth='resource_principal')"
   ]
  },
  {
   "cell_type": "code",
   "execution_count": null,
   "metadata": {},
   "outputs": [],
   "source": [
    "seed = 42\n",
    "X,y = make_classification(n_samples=10000,n_features=15,n_classes=2,flip_y=0.05)\n",
    "trainx,testx,trainy,testy=train_test_split(X,y,test_size=30,random_state=seed)\n",
    "model = RandomForestClassifier(n_estimators=100,random_state=42)\n",
    "\n",
    "model.fit(\n",
    "    trainx,\n",
    "    trainy\n",
    ")"
   ]
  },
  {
   "cell_type": "code",
   "execution_count": 1,
   "metadata": {},
   "outputs": [
    {
     "ename": "SyntaxError",
     "evalue": "invalid syntax. Perhaps you forgot a comma? (3157170006.py, line 8)",
     "output_type": "error",
     "traceback": [
      "\u001b[1;36m  Cell \u001b[1;32mIn[1], line 8\u001b[1;36m\u001b[0m\n\u001b[1;33m    inference_conda_env=\"generalml_pc38_cpu_v1\"\u001b[0m\n\u001b[1;37m                        ^\u001b[0m\n\u001b[1;31mSyntaxError\u001b[0m\u001b[1;31m:\u001b[0m invalid syntax. Perhaps you forgot a comma?\n"
     ]
    }
   ],
   "source": [
    "#prepare the model artifacts\n",
    "from ads.model.framework.sklearn_model import SklearnModel\n",
    "from ads.common.model_metadata import UseCaseType\n",
    "\n",
    "sklearn_model = SklearnModel(estimator=model,artifact_dir=\"/sklearn_artifact_dir\")\n",
    "\n",
    "sklearn_model.prepare(\n",
    "    inference_conda_env=\"generalml_pc38_cpu_v1\"\n",
    "    training_conda_env=\"generalml_p38_cpu_v1\"\n",
    "    x_sample=trainx\n",
    "    y_sample=trainy\n",
    "    use_case_type=UseCaseType.BINARY_CLASSIFICATION,\n",
    ")"
   ]
  },
  {
   "cell_type": "code",
   "execution_count": null,
   "metadata": {},
   "outputs": [],
   "source": [
    "# Saving the model artifact to the model catalog\n",
    "\n",
    "mc_model = sklearn_model.save(\n",
    "    project_id=os.environ['PROJECT_OCID'],\n",
    "    compartment_id= os.environ['NB_SESSION_COMPARTMENT_OCID'],\n",
    "    training_id=os.environ['NB_SESSION_OCID'],\n",
    "    display_name= <\"display_name\">,\n",
    "    description= <\"description\">,\n",
    "    ignore_pending_changes=True,\n",
    "    ignore_introspection=True,\n",
    "    bucket_uri=\"oci://bucketname\"\n",
    ")\n",
    "\n",
    "mc_model"
   ]
  }
 ],
 "metadata": {
  "kernelspec": {
   "display_name": "Python 3",
   "language": "python",
   "name": "python3"
  },
  "language_info": {
   "codemirror_mode": {
    "name": "ipython",
    "version": 3
   },
   "file_extension": ".py",
   "mimetype": "text/x-python",
   "name": "python",
   "nbconvert_exporter": "python",
   "pygments_lexer": "ipython3",
   "version": "3.11.2"
  }
 },
 "nbformat": 4,
 "nbformat_minor": 2
}
